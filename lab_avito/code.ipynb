{
 "cells": [
  {
   "cell_type": "code",
   "execution_count": 7,
   "metadata": {},
   "outputs": [],
   "source": [
    "import numpy as np\n",
    "import codecs\n",
    "import re\n",
    "import webbrowser\n",
    "import requests \n",
    "\n",
    "def count_lines(filename, chunk_size=1<<13):\n",
    "    with open(filename) as file:\n",
    "        return sum(chunk.count('\\n')\n",
    "                   for chunk in iter(lambda: file.read(chunk_size), ''))"
   ]
  },
  {
   "cell_type": "code",
   "execution_count": 8,
   "metadata": {},
   "outputs": [
    {
     "name": "stdout",
     "output_type": "stream",
     "text": [
      "[['Квартира-студия,', '17\\xa0м²,', '2/3\\xa0эт.', 'в', 'Долгопрудном'], ['Квартира-студия,', '25\\xa0м²,', '23/23\\xa0эт.', 'в', 'Долгопрудном'], ['2-к.', 'квартира,', '58\\xa0м²,', '10/16\\xa0эт.', 'в', 'Долгопрудном'], ['1-к.', 'квартира,', '36\\xa0м²,', '5/23\\xa0эт.', 'в', 'Долгопрудном'], ['Квартира-студия,', '18\\xa0м²,', '2/3\\xa0эт.', 'в', 'Долгопрудном'], ['2-к.', 'апартаменты,', '42,3\\xa0м²,', '7/8\\xa0эт.', 'в', 'Долгопрудном'], ['2-к.', 'квартира,', '67,5\\xa0м²,', '16/17\\xa0эт.', 'в', 'Долгопрудном'], ['1-к.', 'квартира,', '40\\xa0м²,', '5/9\\xa0эт.', 'в', 'Долгопрудном'], ['1-к.', 'квартира,', '36\\xa0м²,', '19/23\\xa0эт.', 'в', 'Долгопрудном'], ['1-к.', 'квартира,', '31\\xa0м²,', '4/5\\xa0эт.', 'в', 'Долгопрудном'], ['1-к.', 'квартира,', '46\\xa0м²,', '14/17\\xa0эт.', 'в', 'Долгопрудном'], ['Апартаменты-студия,', '19\\xa0м²,', '1/1\\xa0эт.', 'в', 'Долгопрудном'], ['Квартира-студия,', '35\\xa0м²,', '9/16\\xa0эт.', 'в', 'Долгопрудном'], ['Квартира-студия,', '24\\xa0м²,', '11/19\\xa0эт.', 'в', 'Долгопрудном'], ['1-к.', 'квартира,', '35\\xa0м²,', '4/5\\xa0эт.', 'в', 'Долгопрудном'], ['1-к.', 'квартира,', '30\\xa0м²,', '4/5\\xa0эт.', 'в', 'Долгопрудном'], ['1-к.', 'квартира,', '50\\xa0м²,', '6/17\\xa0эт.', 'в', 'Долгопрудном'], ['1-к.', 'квартира,', '38\\xa0м²,', '14/25\\xa0эт.', 'в', 'Долгопрудном'], ['1-к.', 'квартира,', '45\\xa0м²,', '4/16\\xa0эт.', 'в', 'Долгопрудном'], ['1-к.', 'к\\x00вартира,', '42\\xa0м²,', '17/17\\xa0эт.', 'в', 'Долгопрудном'], ['1-к.', 'квартира,', '19\\xa0м²,', '2/2\\xa0эт.', 'в', 'Долгопрудном'], ['2-к.', 'квартира,', '68\\xa0м²,', '6/19\\xa0эт.', 'в', 'Долгопрудном'], ['1-к.', 'квартира,', '40\\xa0м²,', '6/17\\xa0эт.', 'в', 'Долгопрудном'], ['2-к.', 'квартира,', '52\\xa0м²,', '13/18\\xa0эт.', 'в', 'Долгопрудном'], ['1-к.', 'квартира,', '35\\xa0м²,', '20/22\\xa0эт.', 'в', 'Долгопрудном'], ['2-к.', 'квартира,', '65\\xa0м²,', '17/17\\xa0эт.', 'в', 'Долгопрудном'], ['2-к.', 'квартира,', '44\\xa0м²,', '2/3\\xa0эт.', 'в', 'Долгопрудном'], ['2-к.', 'квартира,', '45,8\\xa0м²,', '3/5\\xa0эт.', 'в', 'Долгопрудном'], ['2-к.', 'квартира,', '56\\xa0м²,', '8/19\\xa0эт.', 'в', 'Долгопрудном'], ['2-к.', 'квартира,', '45\\xa0м²,', '2/5\\xa0эт.', 'в', 'Долгопрудном'], ['1-к.', 'квартира,', '18\\xa0м²,', '5/5\\xa0эт.', 'в', 'Долгопрудном'], ['2-к.', 'квартира,', '65\\xa0м²,', '17/17\\xa0эт.', 'в', 'Долгопрудном'], ['1-к.', 'квартира,', '30\\xa0м²,', '2/19\\xa0эт.', 'в', 'Долгопрудном'], ['1-к.', 'квартира,', '33\\xa0м²,', '2/5\\xa0эт.', 'в', 'Долгопрудном'], ['1-к.', 'квартира,', '37\\xa0м²,', '5/18\\xa0эт.', 'в', 'Долгопрудном'], ['Квартира-студия,', '25\\xa0м²,', '14/23\\xa0эт.', 'в', 'Долгопрудном'], ['2-к.', 'квартира,', '66\\xa0м²,', '13/19\\xa0эт.', 'в', 'Долгопрудном'], ['1-к.', 'квартира,', '32,1\\xa0м²,', '4/5\\xa0эт.', 'в', 'Долгопрудном'], ['Квартира-студия,', '17\\xa0м²,', '2/2\\xa0эт.', 'в', 'Долгопрудном'], ['1-к.', 'квартира,', '37\\xa0м²,', '20/23\\xa0эт.', 'в', 'Долгопрудном'], ['3-к.', 'квартира,', '59,6\\xa0м²,', '4/5\\xa0эт.', 'в', 'Долгопрудном'], ['Квартира-студия,', '20\\xa0м²,', '1/2\\xa0эт.', 'в', 'Долгопрудном'], ['1-к.', 'квартира,', '42\\xa0м²,', '16/25\\xa0эт.', 'в', 'Долгопрудном'], ['2-к.', 'квартира,', '42\\xa0м²,', '2/5\\xa0эт.', 'в', 'Долгопрудном'], ['3-к.', 'квартира,', '85\\xa0м²,', '15/18\\xa0эт.', 'в', 'Долгопрудном'], ['1-к.', 'квартира,', '33\\xa0м²,', '8/9\\xa0эт.', 'в', 'Долгопрудном'], ['Квартира-студия,', '17\\xa0м²,', '3/3\\xa0эт.', 'в', 'Долгопрудном'], ['2-к.', 'квартира,', '50\\xa0м²,', '5/19\\xa0эт.', 'в', 'Долгопрудном'], ['1-к.', 'квартира,', '35\\xa0м²,', '3/18\\xa0эт.', 'в', 'Долгопрудном'], ['3-к.', 'квартира,', '84\\xa0м²,', '8/24\\xa0эт.', 'в', 'Долгопрудном']]\n",
      "https://www.avito.ru/dolgoprudnyy/kvartiry/2-k._kvartira_45m_25et._2666045749\n"
     ]
    },
    {
     "data": {
      "text/plain": [
       "True"
      ]
     },
     "execution_count": 8,
     "metadata": {},
     "output_type": "execute_result"
    }
   ],
   "source": [
    "mainLink = 'https://www.avito.ru/dolgoprudnyy/kvartiry/sdam/na_dlitelnyy_srok-ASgBAgICAkSSA8gQ8AeQUg?cd=1'\n",
    "subLink = 'https://www.avito.ru/dolgoprudnyy/kvartiry/'\n",
    "\n",
    "strdata1 = 'target=\"_blank\" rel=\"noopener\" title=\"'\n",
    "strdata2 = '\" itemProp=\"url\" data-marker=\"item-title\"'\n",
    "\n",
    "str1price = '<meta itemProp=\"price\" content='\n",
    "str2price = '/><meta itemProp=\"availability\" content=\"'\n",
    "\n",
    "str1link = '<div class=\"iva-item-titleStep-pdebR\"><a href=\"/dolgoprudnyy/kvartiry/'\n",
    "str2link = '\" target=\"_blank\" rel=\"noopener\" title=\"'\n",
    "\n",
    "data = codecs.open('data.txt', 'r', 'utf_8_sig')\n",
    "data = data.read()\n",
    "dat = []\n",
    "\n",
    "dat1 = []\n",
    "\n",
    "indexdatastart = [_.start() for _ in re.finditer(strdata1, data)]\n",
    "indexdataend = [_.start() for _ in re.finditer(strdata2, data)]\n",
    "for i in range(len(indexdatastart)):\n",
    "    dat.append((data[indexdatastart[i]+len(strdata1):indexdataend[i]]).split(' '))\n",
    "\n",
    "print(dat)\n",
    "\n",
    "for el in dat:\n",
    "    for subel in el:\n",
    "        if '\\xa0м²' in subel:\n",
    "            dat1.append(subel[:-4])\n",
    "dat2 = []\n",
    "for el in dat1:\n",
    "    dat2.append(el.replace(',','.'))\n",
    "dat2 = list(map(float, dat2))\n",
    "\n",
    "\n",
    "#PRICE=====================================================\n",
    "price = []\n",
    "\n",
    "indexpricestart = [_.start() for _ in re.finditer(str1price, data)]\n",
    "indexpriceend = [_.start() for _ in re.finditer(str2price, data)]\n",
    "\n",
    "for i in range(len(indexdatastart)):\n",
    "    price.append( (data[indexpricestart[i]+len(str1price)+1:indexpriceend[i]-1]).split(' ') )\n",
    "\n",
    "price1 = []\n",
    "for el in price:\n",
    "    for subel in el:\n",
    "        price1.append(subel)\n",
    "price1 = list(map(int, price1))\n",
    "\n",
    "#LINK=======================================================\n",
    "link = []\n",
    "\n",
    "indexlinkstart = [_.start() for _ in re.finditer(str1link, data)]\n",
    "indexlinkend = [_.start() for _ in re.finditer(str2link, data)]\n",
    "\n",
    "link1 = []\n",
    "for i in range(len(indexlinkstart)):\n",
    "    link.append( (data[indexlinkstart[i]+len(str1link):indexlinkend[i]]).split(' ') )\n",
    "link\n",
    "\n",
    "for el in link:\n",
    "    for subel in el:\n",
    "        link1.append(subel)\n",
    "link1\n",
    "\n",
    "#================================\n",
    "square = np.array(dat2, dtype=float)\n",
    "price = np.array(price1, dtype=int)\n",
    "C = price/square\n",
    "minC = np.min(C)\n",
    "indexMin = np.argmin(C)\n",
    "minLink = subLink+link1[indexMin]\n",
    "print(minLink)\n",
    "webbrowser.open_new(minLink)\n"
   ]
  },
  {
   "cell_type": "code",
   "execution_count": null,
   "metadata": {},
   "outputs": [],
   "source": []
  }
 ],
 "metadata": {
  "kernelspec": {
   "display_name": "Python 3.10.8 64-bit",
   "language": "python",
   "name": "python3"
  },
  "language_info": {
   "codemirror_mode": {
    "name": "ipython",
    "version": 3
   },
   "file_extension": ".py",
   "mimetype": "text/x-python",
   "name": "python",
   "nbconvert_exporter": "python",
   "pygments_lexer": "ipython3",
   "version": "3.10.8"
  },
  "orig_nbformat": 4,
  "vscode": {
   "interpreter": {
    "hash": "b0fa6594d8f4cbf19f97940f81e996739fb7646882a419484c72d19e05852a7e"
   }
  }
 },
 "nbformat": 4,
 "nbformat_minor": 2
}
